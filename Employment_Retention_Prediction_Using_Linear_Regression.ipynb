{
  "nbformat": 4,
  "nbformat_minor": 0,
  "metadata": {
    "colab": {
      "name": "Employment Retention Prediction Using Linear Regression.ipynb",
      "provenance": [],
      "collapsed_sections": [],
      "include_colab_link": true
    },
    "kernelspec": {
      "name": "python3",
      "display_name": "Python 3"
    },
    "language_info": {
      "name": "python"
    }
  },
  "cells": [
    {
      "cell_type": "markdown",
      "metadata": {
        "id": "view-in-github",
        "colab_type": "text"
      },
      "source": [
        "<a href=\"https://colab.research.google.com/github/manu-choraria/Employment-Retention-Prediction-Using-Linear-Regression/blob/main/Employment_Retention_Prediction_Using_Linear_Regression.ipynb\" target=\"_parent\"><img src=\"https://colab.research.google.com/assets/colab-badge.svg\" alt=\"Open In Colab\"/></a>"
      ]
    },
    {
      "cell_type": "code",
      "metadata": {
        "colab": {
          "base_uri": "https://localhost:8080/",
          "height": 203
        },
        "id": "tvgQXwktVv57",
        "outputId": "e370748d-5833-4407-f115-5b2ca034276b"
      },
      "source": [
        "#to import the file\n",
        "import pandas as pd\n",
        "csv_file=pd.read_csv(\"/content/Employee.csv\")\n",
        "\n",
        "#to print first 5 observations\n",
        "csv_file.head()"
      ],
      "execution_count": null,
      "outputs": [
        {
          "output_type": "execute_result",
          "data": {
            "text/html": [
              "<div>\n",
              "<style scoped>\n",
              "    .dataframe tbody tr th:only-of-type {\n",
              "        vertical-align: middle;\n",
              "    }\n",
              "\n",
              "    .dataframe tbody tr th {\n",
              "        vertical-align: top;\n",
              "    }\n",
              "\n",
              "    .dataframe thead th {\n",
              "        text-align: right;\n",
              "    }\n",
              "</style>\n",
              "<table border=\"1\" class=\"dataframe\">\n",
              "  <thead>\n",
              "    <tr style=\"text-align: right;\">\n",
              "      <th></th>\n",
              "      <th>Education</th>\n",
              "      <th>JoiningYear</th>\n",
              "      <th>City</th>\n",
              "      <th>PaymentTier</th>\n",
              "      <th>Age</th>\n",
              "      <th>Gender</th>\n",
              "      <th>EverBenched</th>\n",
              "      <th>ExperienceInCurrentDomain</th>\n",
              "      <th>LeaveOrNot</th>\n",
              "    </tr>\n",
              "  </thead>\n",
              "  <tbody>\n",
              "    <tr>\n",
              "      <th>0</th>\n",
              "      <td>Bachelors</td>\n",
              "      <td>2017</td>\n",
              "      <td>Bangalore</td>\n",
              "      <td>3</td>\n",
              "      <td>34</td>\n",
              "      <td>Male</td>\n",
              "      <td>No</td>\n",
              "      <td>0</td>\n",
              "      <td>0</td>\n",
              "    </tr>\n",
              "    <tr>\n",
              "      <th>1</th>\n",
              "      <td>Bachelors</td>\n",
              "      <td>2013</td>\n",
              "      <td>Pune</td>\n",
              "      <td>1</td>\n",
              "      <td>28</td>\n",
              "      <td>Female</td>\n",
              "      <td>No</td>\n",
              "      <td>3</td>\n",
              "      <td>1</td>\n",
              "    </tr>\n",
              "    <tr>\n",
              "      <th>2</th>\n",
              "      <td>Bachelors</td>\n",
              "      <td>2014</td>\n",
              "      <td>New Delhi</td>\n",
              "      <td>3</td>\n",
              "      <td>38</td>\n",
              "      <td>Female</td>\n",
              "      <td>No</td>\n",
              "      <td>2</td>\n",
              "      <td>0</td>\n",
              "    </tr>\n",
              "    <tr>\n",
              "      <th>3</th>\n",
              "      <td>Masters</td>\n",
              "      <td>2016</td>\n",
              "      <td>Bangalore</td>\n",
              "      <td>3</td>\n",
              "      <td>27</td>\n",
              "      <td>Male</td>\n",
              "      <td>No</td>\n",
              "      <td>5</td>\n",
              "      <td>1</td>\n",
              "    </tr>\n",
              "    <tr>\n",
              "      <th>4</th>\n",
              "      <td>Masters</td>\n",
              "      <td>2017</td>\n",
              "      <td>Pune</td>\n",
              "      <td>3</td>\n",
              "      <td>24</td>\n",
              "      <td>Male</td>\n",
              "      <td>Yes</td>\n",
              "      <td>2</td>\n",
              "      <td>1</td>\n",
              "    </tr>\n",
              "  </tbody>\n",
              "</table>\n",
              "</div>"
            ],
            "text/plain": [
              "   Education  JoiningYear  ... ExperienceInCurrentDomain  LeaveOrNot\n",
              "0  Bachelors         2017  ...                         0           0\n",
              "1  Bachelors         2013  ...                         3           1\n",
              "2  Bachelors         2014  ...                         2           0\n",
              "3    Masters         2016  ...                         5           1\n",
              "4    Masters         2017  ...                         2           1\n",
              "\n",
              "[5 rows x 9 columns]"
            ]
          },
          "metadata": {},
          "execution_count": 2
        }
      ]
    },
    {
      "cell_type": "code",
      "metadata": {
        "colab": {
          "base_uri": "https://localhost:8080/",
          "height": 203
        },
        "id": "TQf44mXKWRmb",
        "outputId": "3d56531f-d633-451f-a172-63840ace1856"
      },
      "source": [
        "#to print last 5 observations\n",
        "csv_file.tail()"
      ],
      "execution_count": null,
      "outputs": [
        {
          "output_type": "execute_result",
          "data": {
            "text/html": [
              "<div>\n",
              "<style scoped>\n",
              "    .dataframe tbody tr th:only-of-type {\n",
              "        vertical-align: middle;\n",
              "    }\n",
              "\n",
              "    .dataframe tbody tr th {\n",
              "        vertical-align: top;\n",
              "    }\n",
              "\n",
              "    .dataframe thead th {\n",
              "        text-align: right;\n",
              "    }\n",
              "</style>\n",
              "<table border=\"1\" class=\"dataframe\">\n",
              "  <thead>\n",
              "    <tr style=\"text-align: right;\">\n",
              "      <th></th>\n",
              "      <th>Education</th>\n",
              "      <th>JoiningYear</th>\n",
              "      <th>City</th>\n",
              "      <th>PaymentTier</th>\n",
              "      <th>Age</th>\n",
              "      <th>Gender</th>\n",
              "      <th>EverBenched</th>\n",
              "      <th>ExperienceInCurrentDomain</th>\n",
              "      <th>LeaveOrNot</th>\n",
              "    </tr>\n",
              "  </thead>\n",
              "  <tbody>\n",
              "    <tr>\n",
              "      <th>4648</th>\n",
              "      <td>Bachelors</td>\n",
              "      <td>2013</td>\n",
              "      <td>Bangalore</td>\n",
              "      <td>3</td>\n",
              "      <td>26</td>\n",
              "      <td>Female</td>\n",
              "      <td>No</td>\n",
              "      <td>4</td>\n",
              "      <td>0</td>\n",
              "    </tr>\n",
              "    <tr>\n",
              "      <th>4649</th>\n",
              "      <td>Masters</td>\n",
              "      <td>2013</td>\n",
              "      <td>Pune</td>\n",
              "      <td>2</td>\n",
              "      <td>37</td>\n",
              "      <td>Male</td>\n",
              "      <td>No</td>\n",
              "      <td>2</td>\n",
              "      <td>1</td>\n",
              "    </tr>\n",
              "    <tr>\n",
              "      <th>4650</th>\n",
              "      <td>Masters</td>\n",
              "      <td>2018</td>\n",
              "      <td>New Delhi</td>\n",
              "      <td>3</td>\n",
              "      <td>27</td>\n",
              "      <td>Male</td>\n",
              "      <td>No</td>\n",
              "      <td>5</td>\n",
              "      <td>1</td>\n",
              "    </tr>\n",
              "    <tr>\n",
              "      <th>4651</th>\n",
              "      <td>Bachelors</td>\n",
              "      <td>2012</td>\n",
              "      <td>Bangalore</td>\n",
              "      <td>3</td>\n",
              "      <td>30</td>\n",
              "      <td>Male</td>\n",
              "      <td>Yes</td>\n",
              "      <td>2</td>\n",
              "      <td>0</td>\n",
              "    </tr>\n",
              "    <tr>\n",
              "      <th>4652</th>\n",
              "      <td>Bachelors</td>\n",
              "      <td>2015</td>\n",
              "      <td>Bangalore</td>\n",
              "      <td>3</td>\n",
              "      <td>33</td>\n",
              "      <td>Male</td>\n",
              "      <td>Yes</td>\n",
              "      <td>4</td>\n",
              "      <td>0</td>\n",
              "    </tr>\n",
              "  </tbody>\n",
              "</table>\n",
              "</div>"
            ],
            "text/plain": [
              "      Education  JoiningYear  ... ExperienceInCurrentDomain  LeaveOrNot\n",
              "4648  Bachelors         2013  ...                         4           0\n",
              "4649    Masters         2013  ...                         2           1\n",
              "4650    Masters         2018  ...                         5           1\n",
              "4651  Bachelors         2012  ...                         2           0\n",
              "4652  Bachelors         2015  ...                         4           0\n",
              "\n",
              "[5 rows x 9 columns]"
            ]
          },
          "metadata": {},
          "execution_count": 3
        }
      ]
    },
    {
      "cell_type": "code",
      "metadata": {
        "colab": {
          "base_uri": "https://localhost:8080/"
        },
        "id": "qG1I8c6bW2F5",
        "outputId": "da7a7e3b-ea14-4701-a698-06f635362f44"
      },
      "source": [
        "#to print information about dataset\n",
        "csv_file.info()"
      ],
      "execution_count": null,
      "outputs": [
        {
          "output_type": "stream",
          "name": "stdout",
          "text": [
            "<class 'pandas.core.frame.DataFrame'>\n",
            "RangeIndex: 4653 entries, 0 to 4652\n",
            "Data columns (total 9 columns):\n",
            " #   Column                     Non-Null Count  Dtype \n",
            "---  ------                     --------------  ----- \n",
            " 0   Education                  4653 non-null   object\n",
            " 1   JoiningYear                4653 non-null   int64 \n",
            " 2   City                       4653 non-null   object\n",
            " 3   PaymentTier                4653 non-null   int64 \n",
            " 4   Age                        4653 non-null   int64 \n",
            " 5   Gender                     4653 non-null   object\n",
            " 6   EverBenched                4653 non-null   object\n",
            " 7   ExperienceInCurrentDomain  4653 non-null   int64 \n",
            " 8   LeaveOrNot                 4653 non-null   int64 \n",
            "dtypes: int64(5), object(4)\n",
            "memory usage: 327.3+ KB\n"
          ]
        }
      ]
    },
    {
      "cell_type": "code",
      "metadata": {
        "colab": {
          "base_uri": "https://localhost:8080/",
          "height": 142
        },
        "id": "2emWjVnBXGZu",
        "outputId": "05518ce4-8b97-4340-a5df-c4a61002c9c6"
      },
      "source": [
        "#to get data insights by dividing the dataset into leaving and not leaving and displaying average of each attribute\n",
        "leaving=csv_file.groupby('LeaveOrNot')\n",
        "leaving.mean()"
      ],
      "execution_count": null,
      "outputs": [
        {
          "output_type": "execute_result",
          "data": {
            "text/html": [
              "<div>\n",
              "<style scoped>\n",
              "    .dataframe tbody tr th:only-of-type {\n",
              "        vertical-align: middle;\n",
              "    }\n",
              "\n",
              "    .dataframe tbody tr th {\n",
              "        vertical-align: top;\n",
              "    }\n",
              "\n",
              "    .dataframe thead th {\n",
              "        text-align: right;\n",
              "    }\n",
              "</style>\n",
              "<table border=\"1\" class=\"dataframe\">\n",
              "  <thead>\n",
              "    <tr style=\"text-align: right;\">\n",
              "      <th></th>\n",
              "      <th>JoiningYear</th>\n",
              "      <th>PaymentTier</th>\n",
              "      <th>Age</th>\n",
              "      <th>ExperienceInCurrentDomain</th>\n",
              "    </tr>\n",
              "    <tr>\n",
              "      <th>LeaveOrNot</th>\n",
              "      <th></th>\n",
              "      <th></th>\n",
              "      <th></th>\n",
              "      <th></th>\n",
              "    </tr>\n",
              "  </thead>\n",
              "  <tbody>\n",
              "    <tr>\n",
              "      <th>0</th>\n",
              "      <td>2014.817884</td>\n",
              "      <td>2.778578</td>\n",
              "      <td>29.571896</td>\n",
              "      <td>2.940059</td>\n",
              "    </tr>\n",
              "    <tr>\n",
              "      <th>1</th>\n",
              "      <td>2015.530625</td>\n",
              "      <td>2.545000</td>\n",
              "      <td>29.052500</td>\n",
              "      <td>2.840000</td>\n",
              "    </tr>\n",
              "  </tbody>\n",
              "</table>\n",
              "</div>"
            ],
            "text/plain": [
              "            JoiningYear  PaymentTier        Age  ExperienceInCurrentDomain\n",
              "LeaveOrNot                                                                \n",
              "0           2014.817884     2.778578  29.571896                   2.940059\n",
              "1           2015.530625     2.545000  29.052500                   2.840000"
            ]
          },
          "metadata": {},
          "execution_count": 5
        }
      ]
    },
    {
      "cell_type": "code",
      "metadata": {
        "colab": {
          "base_uri": "https://localhost:8080/",
          "height": 295
        },
        "id": "f-DNblNIYC6w",
        "outputId": "1b766798-6b6a-46c1-938a-bca76738dfad"
      },
      "source": [
        "#to understand the given data\n",
        "csv_file.describe()"
      ],
      "execution_count": null,
      "outputs": [
        {
          "output_type": "execute_result",
          "data": {
            "text/html": [
              "<div>\n",
              "<style scoped>\n",
              "    .dataframe tbody tr th:only-of-type {\n",
              "        vertical-align: middle;\n",
              "    }\n",
              "\n",
              "    .dataframe tbody tr th {\n",
              "        vertical-align: top;\n",
              "    }\n",
              "\n",
              "    .dataframe thead th {\n",
              "        text-align: right;\n",
              "    }\n",
              "</style>\n",
              "<table border=\"1\" class=\"dataframe\">\n",
              "  <thead>\n",
              "    <tr style=\"text-align: right;\">\n",
              "      <th></th>\n",
              "      <th>JoiningYear</th>\n",
              "      <th>PaymentTier</th>\n",
              "      <th>Age</th>\n",
              "      <th>ExperienceInCurrentDomain</th>\n",
              "      <th>LeaveOrNot</th>\n",
              "    </tr>\n",
              "  </thead>\n",
              "  <tbody>\n",
              "    <tr>\n",
              "      <th>count</th>\n",
              "      <td>4653.000000</td>\n",
              "      <td>4653.000000</td>\n",
              "      <td>4653.000000</td>\n",
              "      <td>4653.000000</td>\n",
              "      <td>4653.000000</td>\n",
              "    </tr>\n",
              "    <tr>\n",
              "      <th>mean</th>\n",
              "      <td>2015.062970</td>\n",
              "      <td>2.698259</td>\n",
              "      <td>29.393295</td>\n",
              "      <td>2.905652</td>\n",
              "      <td>0.343864</td>\n",
              "    </tr>\n",
              "    <tr>\n",
              "      <th>std</th>\n",
              "      <td>1.863377</td>\n",
              "      <td>0.561435</td>\n",
              "      <td>4.826087</td>\n",
              "      <td>1.558240</td>\n",
              "      <td>0.475047</td>\n",
              "    </tr>\n",
              "    <tr>\n",
              "      <th>min</th>\n",
              "      <td>2012.000000</td>\n",
              "      <td>1.000000</td>\n",
              "      <td>22.000000</td>\n",
              "      <td>0.000000</td>\n",
              "      <td>0.000000</td>\n",
              "    </tr>\n",
              "    <tr>\n",
              "      <th>25%</th>\n",
              "      <td>2013.000000</td>\n",
              "      <td>3.000000</td>\n",
              "      <td>26.000000</td>\n",
              "      <td>2.000000</td>\n",
              "      <td>0.000000</td>\n",
              "    </tr>\n",
              "    <tr>\n",
              "      <th>50%</th>\n",
              "      <td>2015.000000</td>\n",
              "      <td>3.000000</td>\n",
              "      <td>28.000000</td>\n",
              "      <td>3.000000</td>\n",
              "      <td>0.000000</td>\n",
              "    </tr>\n",
              "    <tr>\n",
              "      <th>75%</th>\n",
              "      <td>2017.000000</td>\n",
              "      <td>3.000000</td>\n",
              "      <td>32.000000</td>\n",
              "      <td>4.000000</td>\n",
              "      <td>1.000000</td>\n",
              "    </tr>\n",
              "    <tr>\n",
              "      <th>max</th>\n",
              "      <td>2018.000000</td>\n",
              "      <td>3.000000</td>\n",
              "      <td>41.000000</td>\n",
              "      <td>7.000000</td>\n",
              "      <td>1.000000</td>\n",
              "    </tr>\n",
              "  </tbody>\n",
              "</table>\n",
              "</div>"
            ],
            "text/plain": [
              "       JoiningYear  PaymentTier  ...  ExperienceInCurrentDomain   LeaveOrNot\n",
              "count  4653.000000  4653.000000  ...                4653.000000  4653.000000\n",
              "mean   2015.062970     2.698259  ...                   2.905652     0.343864\n",
              "std       1.863377     0.561435  ...                   1.558240     0.475047\n",
              "min    2012.000000     1.000000  ...                   0.000000     0.000000\n",
              "25%    2013.000000     3.000000  ...                   2.000000     0.000000\n",
              "50%    2015.000000     3.000000  ...                   3.000000     0.000000\n",
              "75%    2017.000000     3.000000  ...                   4.000000     1.000000\n",
              "max    2018.000000     3.000000  ...                   7.000000     1.000000\n",
              "\n",
              "[8 rows x 5 columns]"
            ]
          },
          "metadata": {},
          "execution_count": 6
        }
      ]
    },
    {
      "cell_type": "code",
      "metadata": {
        "colab": {
          "base_uri": "https://localhost:8080/",
          "height": 279
        },
        "id": "_bUgiLUXYwcW",
        "outputId": "1e2f057d-667c-40f5-d381-e78bf5b45bc0"
      },
      "source": [
        "#to plot employees left with experience of employees who left\n",
        "import matplotlib.pyplot as plt\n",
        "leave_count=csv_file.groupby('LeaveOrNot').count()\n",
        "plt.bar(leave_count.index.values,leave_count['ExperienceInCurrentDomain'])\n",
        "plt.xlabel('Employees left company probability')\n",
        "plt.ylabel(\"Number of employees\")\n",
        "plt.show()"
      ],
      "execution_count": null,
      "outputs": [
        {
          "output_type": "display_data",
          "data": {
            "image/png": "[encoded data removed]",
            "text/plain": [
              "<Figure size 432x288 with 1 Axes>"
            ]
          },
          "metadata": {
            "needs_background": "light"
          }
        }
      ]
    },
    {
      "cell_type": "code",
      "metadata": {
        "colab": {
          "base_uri": "https://localhost:8080/"
        },
        "id": "-lAEYSDSfDEN",
        "outputId": "beb83576-1cc5-4e19-835c-832de36191c5"
      },
      "source": [
        "#To display number of employees left or not\n",
        "csv_file.LeaveOrNot.value_counts()"
      ],
      "execution_count": null,
      "outputs": [
        {
          "output_type": "execute_result",
          "data": {
            "text/plain": [
              "0    3053\n",
              "1    1600\n",
              "Name: LeaveOrNot, dtype: int64"
            ]
          },
          "metadata": {},
          "execution_count": 8
        }
      ]
    },
    {
      "cell_type": "code",
      "metadata": {
        "colab": {
          "base_uri": "https://localhost:8080/",
          "height": 279
        },
        "id": "Ro24irjufgfM",
        "outputId": "41ddd04e-8bc8-41f1-ae9b-bb383331df13"
      },
      "source": [
        "#to plot salary with experience in current domain\n",
        "salary_count=csv_file.groupby('PaymentTier').count()\n",
        "plt.bar(salary_count.index.values,salary_count['ExperienceInCurrentDomain'])\n",
        "plt.xlabel('Payment tier')\n",
        "plt.ylabel(\"Number of employees\")\n",
        "plt.show()"
      ],
      "execution_count": null,
      "outputs": [
        {
          "output_type": "display_data",
          "data": {
            "image/png": "[encoded data removed]",
            "text/plain": [
              "<Figure size 432x288 with 1 Axes>"
            ]
          },
          "metadata": {
            "needs_background": "light"
          }
        }
      ]
    },
    {
      "cell_type": "code",
      "metadata": {
        "colab": {
          "base_uri": "https://localhost:8080/",
          "height": 279
        },
        "id": "fEpD1crShBbk",
        "outputId": "73998411-9cb3-43d4-cd2a-68f0920ad917"
      },
      "source": [
        "#to plot joining year with number of employees\n",
        "joining_year=csv_file.groupby('JoiningYear').count()\n",
        "plt.bar(joining_year.index.values,joining_year['ExperienceInCurrentDomain'])\n",
        "plt.xlabel('Joining year')\n",
        "plt.ylabel(\"Number of employees\")\n",
        "plt.show()"
      ],
      "execution_count": null,
      "outputs": [
        {
          "output_type": "display_data",
          "data": {
            "image/png": "[encoded data removed]",
            "text/plain": [
              "<Figure size 432x288 with 1 Axes>"
            ]
          },
          "metadata": {
            "needs_background": "light"
          }
        }
      ]
    },
    {
      "cell_type": "code",
      "metadata": {
        "colab": {
          "base_uri": "https://localhost:8080/",
          "height": 893
        },
        "id": "su5bIklBh-Cm",
        "outputId": "036dc3b1-e786-4b2b-a880-c016fe30d738"
      },
      "source": [
        "#to plotsubplots \n",
        "import seaborn as sns\n",
        "features=['JoiningYear','PaymentTier','Age','ExperienceInCurrentDomain','LeaveOrNot','Gender','City','Education']\n",
        "fig=plt.subplots(figsize=(10,15))\n",
        "for(i,j) in enumerate(features):\n",
        "  plt.subplot(4,2,i+1)\n",
        "  plt.subplots_adjust(hspace=0.5)\n",
        "  sns.countplot(x=j,data=csv_file)\n",
        "  plt.title(\"No. of Employees\")\n"
      ],
      "execution_count": null,
      "outputs": [
        {
          "output_type": "display_data",
          "data": {
            "image/png": "[encoded data removed]",
            "text/plain": [
              "<Figure size 720x1080 with 8 Axes>"
            ]
          },
          "metadata": {
            "needs_background": "light"
          }
        }
      ]
    },
    {
      "cell_type": "code",
      "metadata": {
        "colab": {
          "base_uri": "https://localhost:8080/"
        },
        "id": "YbXvrGe6k1W_",
        "outputId": "6a6749a8-9b77-42f8-d402-c508da440880"
      },
      "source": [
        "#To prepare prediction model using labelencoding to convert categorical values into numerical values\n",
        "from sklearn import preprocessing\n",
        "label_encoder=preprocessing.LabelEncoder()\n",
        "csv_file['City']=label_encoder.fit_transform(csv_file['City']) #Banglore=0,Pune=2,New Delhi=1\n",
        "csv_file['Gender']=label_encoder.fit_transform(csv_file['Gender']) #Male=1 Female=0\n",
        "csv_file['Education']=label_encoder.fit_transform(csv_file['Education']) #Bachelors=0 Masters=1 PHD=2\n",
        "#to split data and label\n",
        "data=csv_file[['Gender','Age','Education','City','JoiningYear','ExperienceInCurrentDomain','PaymentTier']]\n",
        "label=csv_file['LeaveOrNot']\n",
        "\n",
        "#to split data into train and test\n",
        "from sklearn.model_selection import train_test_split\n",
        "data_train,data_test,label_train,label_test=train_test_split(data,label,test_size=0.1,random_state=4)\n",
        "\n",
        "#to train the model\n",
        "from sklearn.linear_model import LinearRegression\n",
        "linreg=LinearRegression()\n",
        "linreg.fit(data_train,label_train)\n",
        "\n",
        "#to test the model\n",
        "label_predict=linreg.predict(data_test)\n",
        "\n",
        "#to display the accuracy\n",
        "from sklearn.metrics import mean_squared_error\n",
        "from math import sqrt\n",
        "mse=mean_squared_error(label_test,label_predict)\n",
        "rmse=sqrt(mse)\n",
        "print(\"The root mean squared error is:\",rmse,\"%\")\n",
        "print(\"The accuracy is:\",(100-rmse),\"%\")"
      ],
      "execution_count": null,
      "outputs": [
        {
          "output_type": "stream",
          "name": "stdout",
          "text": [
            "The root mean squared error is: 0.4491727777105922 %\n",
            "The accuracy is: 99.55082722228941 %\n"
          ]
        }
      ]
    },
    {
      "cell_type": "code",
      "metadata": {
        "id": "oq5hU9s2q688",
        "colab": {
          "base_uri": "https://localhost:8080/",
          "height": 282
        },
        "outputId": "b0a36fc1-2be1-44bd-99de-ea27e14f8f26"
      },
      "source": [
        "#to plot the box plot of persons leaving as per age\n",
        "import matplotlib.pyplot as plt\n",
        "left_emp=csv_file[\"Age\"][csv_file.LeaveOrNot==1]\n",
        "\n",
        "left_emp.plot.box()\n"
      ],
      "execution_count": null,
      "outputs": [
        {
          "output_type": "execute_result",
          "data": {
            "text/plain": [
              "<matplotlib.axes._subplots.AxesSubplot at 0x7f4a30bd9e10>"
            ]
          },
          "metadata": {},
          "execution_count": 48
        },
        {
          "output_type": "display_data",
          "data": {
            "image/png": "[encoded data removed]",
            "text/plain": [
              "<Figure size 432x288 with 1 Axes>"
            ]
          },
          "metadata": {
            "needs_background": "light"
          }
        }
      ]
    },
    {
      "cell_type": "code",
      "metadata": {
        "id": "3DG556tzRHw1"
      },
      "source": [
        ""
      ],
      "execution_count": null,
      "outputs": []
    }
  ]
}